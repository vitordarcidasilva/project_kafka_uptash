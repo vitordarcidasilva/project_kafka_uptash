{
 "cells": [
  {
   "cell_type": "markdown",
   "metadata": {},
   "source": [
    "# Producer"
   ]
  },
  {
   "cell_type": "code",
   "execution_count": 3,
   "metadata": {},
   "outputs": [
    {
     "name": "stdout",
     "output_type": "stream",
     "text": [
      "Message produced: RecordMetadata(topic='topic-1', partition=0, topic_partition=TopicPartition(topic='topic-1', partition=0), offset=2, timestamp=1710944092240, log_start_offset=0, checksum=None, serialized_key_size=-1, serialized_value_size=14, serialized_header_size=-1)\n"
     ]
    }
   ],
   "source": [
    "from kafka import KafkaProducer\n",
    "\n",
    "producer = KafkaProducer(\n",
    "    bootstrap_servers='mutual-shrimp-13505-us1-kafka.upstash.io:9092',\n",
    "    sasl_mechanism='SCRAM-SHA-256',\n",
    "    security_protocol='SASL_SSL',\n",
    "    sasl_plain_username='bXV0dWFsLXNocmltcC0xMzUwNSTolZoSwUXeZqoOfvlp4xj3pjl4uRXoCbeBmXI',\n",
    "    sasl_plain_password='YmY4ZWZjZmItNmE2Yi00Y2ZhLWI1N2ItNTgxMjU2ZGM1NjRm',\n",
    "    api_version_auto_timeout_ms=100000,    \n",
    ")\n",
    "\n",
    "try:\n",
    "    result = producer.send('topic-1', b'Welcome to YT1').get(timeout = 60)    \n",
    "    print(\"Message produced:\", result)\n",
    "except Exception as e:\n",
    "    print(f\"Error producing message: {e}\")\n",
    "finally:\n",
    "    producer.close()"
   ]
  },
  {
   "cell_type": "markdown",
   "metadata": {},
   "source": [
    "# Consumer"
   ]
  },
  {
   "cell_type": "code",
   "execution_count": 4,
   "metadata": {},
   "outputs": [
    {
     "name": "stdout",
     "output_type": "stream",
     "text": [
      "Received message: b'Welcome to YT3'\n",
      "Received message: b'Welcome to YT2'\n",
      "Received message: b'Welcome to YT1'\n"
     ]
    }
   ],
   "source": [
    "from kafka import KafkaConsumer\n",
    "\n",
    "consumer = KafkaConsumer(\n",
    "    'topic-1',\n",
    "    bootstrap_servers='mutual-shrimp-13505-us1-kafka.upstash.io:9092',\n",
    "    sasl_mechanism='SCRAM-SHA-256',\n",
    "    security_protocol='SASL_SSL',\n",
    "    sasl_plain_username='bXV0dWFsLXNocmltcC0xMzUwNSTolZoSwUXeZqoOfvlp4xj3pjl4uRXoCbeBmXI',\n",
    "    sasl_plain_password='YmY4ZWZjZmItNmE2Yi00Y2ZhLWI1N2ItNTgxMjU2ZGM1NjRm',\n",
    "    group_id='YOUR_CONSUMER_GROUP',\n",
    "    auto_offset_reset='earliest'\n",
    ")\n",
    "\n",
    "try:\n",
    "    for message in consumer:\n",
    "        print(f\"Received message: {message.value}\")\n",
    "except KeyboardInterrupt:\n",
    "    pass\n",
    "finally:\n",
    "    consumer.close()"
   ]
  },
  {
   "cell_type": "code",
   "execution_count": null,
   "metadata": {},
   "outputs": [],
   "source": []
  }
 ],
 "metadata": {
  "kernelspec": {
   "display_name": "Python 3",
   "language": "python",
   "name": "python3"
  },
  "language_info": {
   "codemirror_mode": {
    "name": "ipython",
    "version": 3
   },
   "file_extension": ".py",
   "mimetype": "text/x-python",
   "name": "python",
   "nbconvert_exporter": "python",
   "pygments_lexer": "ipython3",
   "version": "3.12.2"
  }
 },
 "nbformat": 4,
 "nbformat_minor": 2
}
