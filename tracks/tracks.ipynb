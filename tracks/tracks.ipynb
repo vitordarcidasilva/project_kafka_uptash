{
 "cells": [
  {
   "cell_type": "code",
   "execution_count": 12,
   "metadata": {},
   "outputs": [],
   "source": [
    "# !pip3 install pandas\n",
    "import pandas as pd\n",
    "import json\n",
    "tracks = pd.read_csv('track.csv')"
   ]
  },
  {
   "cell_type": "code",
   "execution_count": 5,
   "metadata": {},
   "outputs": [
    {
     "data": {
      "text/html": [
       "<div>\n",
       "<style scoped>\n",
       "    .dataframe tbody tr th:only-of-type {\n",
       "        vertical-align: middle;\n",
       "    }\n",
       "\n",
       "    .dataframe tbody tr th {\n",
       "        vertical-align: top;\n",
       "    }\n",
       "\n",
       "    .dataframe thead th {\n",
       "        text-align: right;\n",
       "    }\n",
       "</style>\n",
       "<table border=\"1\" class=\"dataframe\">\n",
       "  <thead>\n",
       "    <tr style=\"text-align: right;\">\n",
       "      <th></th>\n",
       "      <th>track_id</th>\n",
       "      <th>track_popularity</th>\n",
       "    </tr>\n",
       "  </thead>\n",
       "  <tbody>\n",
       "    <tr>\n",
       "      <th>0</th>\n",
       "      <td>02MBhqgR7WeeI4ZfB6Lo0i</td>\n",
       "      <td>0</td>\n",
       "    </tr>\n",
       "    <tr>\n",
       "      <th>1</th>\n",
       "      <td>5j4M4gLYuUy9PVw0vsXWyq</td>\n",
       "      <td>0</td>\n",
       "    </tr>\n",
       "    <tr>\n",
       "      <th>2</th>\n",
       "      <td>46EucLPJpx0QM3SCjzzdP0</td>\n",
       "      <td>0</td>\n",
       "    </tr>\n",
       "    <tr>\n",
       "      <th>3</th>\n",
       "      <td>4nK2LvW3osgDT89S38Mcg6</td>\n",
       "      <td>0</td>\n",
       "    </tr>\n",
       "    <tr>\n",
       "      <th>4</th>\n",
       "      <td>1Pq37WIQZDG7yNFnY5IbqG</td>\n",
       "      <td>0</td>\n",
       "    </tr>\n",
       "  </tbody>\n",
       "</table>\n",
       "</div>"
      ],
      "text/plain": [
       "                 track_id  track_popularity\n",
       "0  02MBhqgR7WeeI4ZfB6Lo0i                 0\n",
       "1  5j4M4gLYuUy9PVw0vsXWyq                 0\n",
       "2  46EucLPJpx0QM3SCjzzdP0                 0\n",
       "3  4nK2LvW3osgDT89S38Mcg6                 0\n",
       "4  1Pq37WIQZDG7yNFnY5IbqG                 0"
      ]
     },
     "execution_count": 5,
     "metadata": {},
     "output_type": "execute_result"
    }
   ],
   "source": [
    "tracks.head()"
   ]
  },
  {
   "cell_type": "code",
   "execution_count": 14,
   "metadata": {},
   "outputs": [
    {
     "name": "stdout",
     "output_type": "stream",
     "text": [
      "{\"track_id\": \"02MBhqgR7WeeI4ZfB6Lo0i\", \"track_popularity\": 0}\n"
     ]
    }
   ],
   "source": [
    "for dt in tracks.to_dict(orient='records'):\n",
    "    print(json.dumps(dt))\n",
    "\n",
    "    from kafka import KafkaProducer\n",
    "\n",
    "    producer = KafkaProducer(\n",
    "        bootstrap_servers='epic-terrier-10091-us1-kafka.upstash.io:9092',\n",
    "        sasl_mechanism='SCRAM-SHA-256',\n",
    "        security_protocol='SASL_SSL',\n",
    "        sasl_plain_username='ZXBpYy10ZXJyaWVyLTEwMDkxJM2DAu2oFKShmdZw8CElJ86N8pBX5gxu-pL87GU',\n",
    "        sasl_plain_password='M2EwYzU5MjEtZTdmOS00NTZlLWJiYjYtZGQyNmYyZDZmMDJh',\n",
    "        api_version_auto_timeout_ms=100000,    \n",
    "    )\n",
    "\n",
    "    try:\n",
    "        result = producer.send('topic-1', b'Hello from python').get(timeout = 60)    \n",
    "        print(\"Message produced:\", result)\n",
    "    except Exception as e:\n",
    "        print(f\"Error producing message: {e}\")\n",
    "    finally:\n",
    "        producer.close()\n",
    "    break"
   ]
  },
  {
   "cell_type": "code",
   "execution_count": null,
   "metadata": {},
   "outputs": [],
   "source": []
  }
 ],
 "metadata": {
  "kernelspec": {
   "display_name": "Python 3",
   "language": "python",
   "name": "python3"
  },
  "language_info": {
   "codemirror_mode": {
    "name": "ipython",
    "version": 3
   },
   "file_extension": ".py",
   "mimetype": "text/x-python",
   "name": "python",
   "nbconvert_exporter": "python",
   "pygments_lexer": "ipython3",
   "version": "3.9.6"
  }
 },
 "nbformat": 4,
 "nbformat_minor": 2
}
